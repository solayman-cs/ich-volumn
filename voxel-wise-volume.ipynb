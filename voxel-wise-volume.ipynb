{
 "cells": [
  {
   "cell_type": "markdown",
   "id": "5bc75783",
   "metadata": {},
   "source": [
    "# Voxel Based ICH Volume"
   ]
  },
  {
   "cell_type": "code",
   "execution_count": 1,
   "id": "fe6d1955",
   "metadata": {},
   "outputs": [
    {
     "name": "stdout",
     "output_type": "stream",
     "text": [
      "Count of pixels in hemorrhage area: 16710\n",
      "Hemorrhage volume: 14596.007537841797 mm^3\n",
      "Hemorrhage volume: 14.596007537841796 cm^3\n"
     ]
    }
   ],
   "source": [
    "import nibabel as nib\n",
    "import numpy as np\n",
    "\n",
    "def estimate_hemorrhage_volume(nifti_file):\n",
    "    # Load NIfTI file\n",
    "    img = nib.load(nifti_file)\n",
    "    data = img.get_fdata()\n",
    "    # print(data.shape)\n",
    "    # print(img.header)\n",
    "\n",
    "    # Threshold the image to extract hemorrhage region\n",
    "    hemorrhage_mask = np.where(data > 0, 1, 0)\n",
    "    sx, sy, sz = img.header.get_zooms()\n",
    "    # print(sx*sy*sz) # volume\n",
    "\n",
    "    # Calculate voxel size\n",
    "    voxel_size = np.prod(img.header.get_zooms())\n",
    "    \n",
    "    # print(voxel_size)\n",
    "    \n",
    "    \n",
    "    # print(hemorrhage_mask)\n",
    "    \n",
    "    print(f\"Count of pixels in hemorrhage area: {np.sum(hemorrhage_mask)}\")\n",
    "\n",
    "    # Calculate hemorrhage volume in cubic millimeters\n",
    "    hemorrhage_volume = np.sum(hemorrhage_mask) * voxel_size\n",
    "\n",
    "    return hemorrhage_volume\n",
    "\n",
    "# Example usage\n",
    "nifti_file_path = '076.nii'\n",
    "volume = estimate_hemorrhage_volume(nifti_file_path)\n",
    "print(f\"Hemorrhage volume: {volume} mm^3\")\n",
    "print(f\"Hemorrhage volume: {volume/1000} cm^3\")"
   ]
  },
  {
   "cell_type": "code",
   "execution_count": 6,
   "id": "bbbb6358",
   "metadata": {},
   "outputs": [
    {
     "name": "stdout",
     "output_type": "stream",
     "text": [
      "Results saved successfully.\n"
     ]
    }
   ],
   "source": [
    "import os\n",
    "import glob\n",
    "import csv\n",
    "import nibabel as nib\n",
    "import numpy as np\n",
    "\n",
    "def estimate_hemorrhage_volume(nifti_file):\n",
    "    # Load NIfTI file\n",
    "    img = nib.load(nifti_file)\n",
    "    data = img.get_fdata()\n",
    "\n",
    "    # Threshold the image to extract hemorrhage region\n",
    "    hemorrhage_mask = np.where(data > 0, 1, 0)\n",
    "    sx, sy, sz = img.header.get_zooms()\n",
    "\n",
    "    # Calculate voxel size\n",
    "    voxel_size = np.prod(img.header.get_zooms())\n",
    "\n",
    "    # Calculate hemorrhage volume in cubic millimeters\n",
    "    hemorrhage_volume = np.sum(hemorrhage_mask) * voxel_size\n",
    "\n",
    "    return hemorrhage_volume/1000\n",
    "\n",
    "# Folder path containing the NIfTI files\n",
    "folder_path = 'C://Users//Solayman//Downloads//ich//PhysioNet//Cutomized//computed-tomography-images-for-intracranial-hemorrhage-detection-and-segmentation-1.3.1//masks'\n",
    "\n",
    "# List all NIfTI files in the folder\n",
    "nifti_files = glob.glob(os.path.join(folder_path, '*.nii'))\n",
    "\n",
    "# Initialize a list to store the results\n",
    "results = []\n",
    "\n",
    "# Process each NIfTI file\n",
    "for nifti_file in nifti_files:\n",
    "    # Calculate hemorrhage volume for the current file\n",
    "    volume = estimate_hemorrhage_volume(nifti_file)\n",
    "    file_name = os.path.basename(nifti_file)  # Get only the file name\n",
    "    results.append((file_name, volume))\n",
    "\n",
    "# CSV file path to save the results\n",
    "csv_file_path = 'ich-volume-results.csv'\n",
    "\n",
    "# Save the results to a CSV file\n",
    "with open(csv_file_path, 'w', newline='') as csv_file:\n",
    "    writer = csv.writer(csv_file)\n",
    "    writer.writerow(['NIfTI File', 'ich-volume (cm^3)'])\n",
    "    writer.writerows(results)\n",
    "\n",
    "print(\"Results saved successfully.\")\n"
   ]
  },
  {
   "cell_type": "markdown",
   "id": "4d7798a5",
   "metadata": {},
   "source": [
    "# Pre-processing"
   ]
  },
  {
   "cell_type": "code",
   "execution_count": 36,
   "id": "fad550cf",
   "metadata": {},
   "outputs": [],
   "source": [
    "import os\n",
    "import numpy as np\n",
    "import nibabel as nib\n",
    "from PIL import Image\n",
    "\n",
    "def save_mask_images(nifti_file, output_folder):\n",
    "    # Load NIfTI file\n",
    "    img = nib.load(nifti_file)\n",
    "    data = img.get_fdata()\n",
    "\n",
    "    # Create the output folder if it doesn't exist\n",
    "    os.makedirs(output_folder, exist_ok=True)\n",
    "\n",
    "    # Iterate over each slice in the NIfTI data\n",
    "    for slice_idx in range(data.shape[2]):\n",
    "        # Extract the slice\n",
    "        slice_data = data[:, :, slice_idx]\n",
    "\n",
    "        # Threshold the slice to create the mask image\n",
    "        mask = (slice_data > 0).astype(np.uint8) * 255\n",
    "\n",
    "        # Resize the mask image to 512x512\n",
    "        mask_image = Image.fromarray(mask)\n",
    "        mask_image = mask_image.resize((512, 512))\n",
    "\n",
    "        # Save the mask image as JPEG\n",
    "        output_path = os.path.join(output_folder, f\"mask_{slice_idx}.png\")\n",
    "        mask_image.save(output_path)\n",
    "\n",
    "# Example usage\n",
    "nifti_file_path = '075.nii'\n",
    "output_folder_path = 'masks'\n",
    "save_mask_images(nifti_file_path, output_folder_path)\n"
   ]
  },
  {
   "cell_type": "code",
   "execution_count": 37,
   "id": "adc0feef",
   "metadata": {},
   "outputs": [
    {
     "name": "stdout",
     "output_type": "stream",
     "text": [
      "Count of pixels in hemorrhage area: 97076\n",
      "Hemorrhage volume: 74063.11004819999 mm^3\n",
      "Hemorrhage volume: 74.06311004819999 cm^3\n"
     ]
    }
   ],
   "source": [
    "import os\n",
    "from PIL import Image\n",
    "\n",
    "def calculate_hemorrhage_pixel_count(folder_path):\n",
    "    total_count = 0\n",
    "\n",
    "    # Iterate over each file in the folder\n",
    "    for filename in os.listdir(folder_path):\n",
    "        if filename.endswith(\".png\"):\n",
    "            file_path = os.path.join(folder_path, filename)\n",
    "            image = Image.open(file_path)\n",
    "\n",
    "            # Convert the image to grayscale\n",
    "            image = image.convert(\"L\")\n",
    "\n",
    "            # Convert the image to a numpy array\n",
    "            mask_array = np.array(image)\n",
    "\n",
    "            # Count the pixels corresponding to hemorrhage area\n",
    "            hemorrhage_pixels = np.count_nonzero(mask_array)\n",
    "\n",
    "            # Accumulate the count\n",
    "            total_count += hemorrhage_pixels\n",
    "\n",
    "    return total_count\n",
    "\n",
    "# Example usage\n",
    "folder_path = 'masks'\n",
    "hemorrhage_pixel_count = calculate_hemorrhage_pixel_count(folder_path)\n",
    "print(f\"Count of pixels in hemorrhage area: {hemorrhage_pixel_count}\")\n",
    "\n",
    "voxel_size = 0.76293945 # Previous Calculation\n",
    "\n",
    "hemorrhage_volume = hemorrhage_pixel_count * voxel_size\n",
    "print(f\"Hemorrhage volume: {hemorrhage_volume} mm^3\")\n",
    "print(f\"Hemorrhage volume: {hemorrhage_volume/1000} cm^3\")\n"
   ]
  },
  {
   "cell_type": "code",
   "execution_count": null,
   "id": "07c79cc1",
   "metadata": {},
   "outputs": [],
   "source": []
  }
 ],
 "metadata": {
  "kernelspec": {
   "display_name": "Python 3 (ipykernel)",
   "language": "python",
   "name": "python3"
  },
  "language_info": {
   "codemirror_mode": {
    "name": "ipython",
    "version": 3
   },
   "file_extension": ".py",
   "mimetype": "text/x-python",
   "name": "python",
   "nbconvert_exporter": "python",
   "pygments_lexer": "ipython3",
   "version": "3.9.12"
  }
 },
 "nbformat": 4,
 "nbformat_minor": 5
}
